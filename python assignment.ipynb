{
 "cells": [
  {
   "cell_type": "markdown",
   "id": "d4f03c02-a6e4-448f-8374-069f0885953c",
   "metadata": {},
   "source": [
    "WAP to accept two numbers from the user and display their sum"
   ]
  },
  {
   "cell_type": "code",
   "execution_count": 1,
   "id": "26c973c1-c831-4e19-8948-4b802bf292d2",
   "metadata": {},
   "outputs": [
    {
     "name": "stdin",
     "output_type": "stream",
     "text": [
      "enter 1st number: 5\n",
      "enter 2nd number: 7\n"
     ]
    },
    {
     "name": "stdout",
     "output_type": "stream",
     "text": [
      "sum of 2 numbers: 12\n"
     ]
    }
   ],
   "source": [
    "a = int(input('enter 1st number:'))\n",
    "b = int(input('enter 2nd number:'))\n",
    "print('sum of 2 numbers:',a+b)"
   ]
  },
  {
   "cell_type": "markdown",
   "id": "9029ee59-d698-41b4-8267-bf010e7b0b88",
   "metadata": {},
   "source": [
    "WAP to accept radius of a Circle from the user and calculate area and circumference"
   ]
  },
  {
   "cell_type": "code",
   "execution_count": 2,
   "id": "f1c2bb90-ff9b-4426-92aa-274a3c2192ce",
   "metadata": {},
   "outputs": [
    {
     "name": "stdin",
     "output_type": "stream",
     "text": [
      "enter radius of circle: 5\n"
     ]
    },
    {
     "name": "stdout",
     "output_type": "stream",
     "text": [
      "area pf circle: 78.5\n",
      "circumference of circle: 31.400000000000002\n"
     ]
    }
   ],
   "source": [
    "r= int(input('enter radius of circle:'))\n",
    "pi = 3.14\n",
    "print('area pf circle:',pi*r*r)\n",
    "print('circumference of circle:',2*pi*r)"
   ]
  },
  {
   "cell_type": "markdown",
   "id": "a9dadcf0-9870-4bae-b73e-1652f1e14f0b",
   "metadata": {},
   "source": [
    "WAP to accept roll number , grade and percentage as input from the user and display it back"
   ]
  },
  {
   "cell_type": "code",
   "execution_count": 4,
   "id": "07b2e7b8-6d02-42f0-9a59-aa62a31dd72b",
   "metadata": {},
   "outputs": [
    {
     "name": "stdin",
     "output_type": "stream",
     "text": [
      "enter the roll_no: 123456\n",
      "enter the grade: A\n",
      "enter the percentage: 95\n"
     ]
    },
    {
     "name": "stdout",
     "output_type": "stream",
     "text": [
      "roll_no is: 123456\n",
      "grade is: A\n",
      "percentage is: 95\n"
     ]
    }
   ],
   "source": [
    "roll_no = int(input('enter the roll_no:'))\n",
    "grade = (input('enter the grade:'))\n",
    "per = int(input('enter the percentage:'))\n",
    "print('roll_no is:',roll_no)\n",
    "print('grade is:',grade)\n",
    "print('percentage is:',per)"
   ]
  },
  {
   "cell_type": "markdown",
   "id": "ea439c4b-706a-4169-b3f2-2aaab27038ce",
   "metadata": {},
   "source": [
    "Write a program that asks the user to enter his/her name and age. Print out a message , displaying the user’s name along with the year in which they will turn 100 years old.\n"
   ]
  },
  {
   "cell_type": "code",
   "execution_count": 1,
   "id": "3b7a1a5d-b23f-4b42-b962-2f101b722882",
   "metadata": {},
   "outputs": [
    {
     "name": "stdin",
     "output_type": "stream",
     "text": [
      "enter your name: khushboo\n",
      "enter your age: 27\n"
     ]
    },
    {
     "name": "stdout",
     "output_type": "stream",
     "text": [
      "khushboo you will 100 in year: 2095\n"
     ]
    }
   ],
   "source": [
    "name = input('enter your name:')\n",
    "age = int(input('enter your age:'))\n",
    "the_year = (100-age)+2022\n",
    "print(name,'you will 100 in year:',the_year)"
   ]
  },
  {
   "cell_type": "markdown",
   "id": "eec2b5c9-4dcc-451f-9c5f-bc3ac31d570e",
   "metadata": {},
   "source": [
    "Write a program that asks the user to input 2 integers and adds them . Accept both the numbers in a single line only\n"
   ]
  },
  {
   "cell_type": "code",
   "execution_count": 13,
   "id": "cba3894f-72b0-47ec-9adc-f97b3d556d7f",
   "metadata": {},
   "outputs": [
    {
     "name": "stdin",
     "output_type": "stream",
     "text": [
      "enter 2 number 5 7\n"
     ]
    },
    {
     "name": "stdout",
     "output_type": "stream",
     "text": [
      "sum of 2 number: 12\n"
     ]
    }
   ],
   "source": [
    "a,b = input('enter 2 number').split()\n",
    "print('sum of 2 number:',int(a)+int(b))"
   ]
  },
  {
   "cell_type": "markdown",
   "id": "fc991c21-f2c2-4e11-b397-098573a6e265",
   "metadata": {},
   "source": [
    "Write a Python program which accepts the user's first and last name and print them in reverse order with a space between them."
   ]
  },
  {
   "cell_type": "code",
   "execution_count": 14,
   "id": "ec1d6252-ce2f-4e19-a3ad-bdefd8094fd5",
   "metadata": {},
   "outputs": [
    {
     "name": "stdin",
     "output_type": "stream",
     "text": [
      "enter your first name: khushboo\n",
      "enter your last name: jain\n"
     ]
    },
    {
     "name": "stdout",
     "output_type": "stream",
     "text": [
      "your name is reverse: oobhsuhk   niaj\n"
     ]
    }
   ],
   "source": [
    "first = input('enter your first name:')\n",
    "last = input('enter your last name:')\n",
    "print('your name is reverse:',first[::-1],' ',last[::-1])"
   ]
  },
  {
   "cell_type": "markdown",
   "id": "970b7f21-6618-44da-b69c-d27a26fd5580",
   "metadata": {},
   "source": [
    "WAP to accept an integer from the user and check whether it is an even or odd "
   ]
  },
  {
   "cell_type": "code",
   "execution_count": 17,
   "id": "5a3df67f-bf7f-4a2e-a49b-b09e99b18bbe",
   "metadata": {},
   "outputs": [
    {
     "name": "stdin",
     "output_type": "stream",
     "text": [
      "enter a number: 1234\n"
     ]
    },
    {
     "name": "stdout",
     "output_type": "stream",
     "text": [
      "it's an even number\n"
     ]
    }
   ],
   "source": [
    "a = int(input('enter a number:'))\n",
    "if a%2==0:\n",
    "    print('''it's an even number''')\n",
    "else:\n",
    "    print('''it's a odd number''')"
   ]
  },
  {
   "cell_type": "markdown",
   "id": "a0631d2e-7b7b-410f-80a3-b1dc8668da9b",
   "metadata": {},
   "source": [
    "WAP to accept a character from the user and check whether it is a capital letter or small letter. Assume user will input only alphabets\n"
   ]
  },
  {
   "cell_type": "code",
   "execution_count": 22,
   "id": "6ea11c88-6b16-4943-8966-1932df509998",
   "metadata": {},
   "outputs": [
    {
     "name": "stdin",
     "output_type": "stream",
     "text": [
      "enter an alphabet: kHUSHBOO\n"
     ]
    },
    {
     "name": "stdout",
     "output_type": "stream",
     "text": [
      "it is a small letter\n"
     ]
    }
   ],
   "source": [
    "x = input('enter an alphabet:')\n",
    "if x[0].islower():\n",
    "    print('it is a small letter')\n",
    "else:\n",
    "    print('it is an capital letter')"
   ]
  },
  {
   "cell_type": "markdown",
   "id": "3ed9a623-1724-47be-bdb2-9e495096ed89",
   "metadata": {},
   "source": [
    "WAP to accept a character from the user and check whether it is a capital letter or small letter or a digit or some special symbol"
   ]
  },
  {
   "cell_type": "code",
   "execution_count": 39,
   "id": "9ba92286-c07b-4986-9189-08e85aad46ed",
   "metadata": {},
   "outputs": [
    {
     "name": "stdin",
     "output_type": "stream",
     "text": [
      "enter an character: ^\n"
     ]
    },
    {
     "name": "stdout",
     "output_type": "stream",
     "text": [
      "it is a special symbol\n"
     ]
    }
   ],
   "source": [
    "x = input('enter an character:')\n",
    "if (x>='a' and x<='z'):\n",
    "    print('it is a small letter')\n",
    "elif (x>='A' and x<='Z'):\n",
    "    print('it is an capital letter')\n",
    "elif (x>='0' and x<='9'):\n",
    "    print('it is an number')\n",
    "else:\n",
    "    print('it is a special symbol')\n",
    "        "
   ]
  },
  {
   "cell_type": "code",
   "execution_count": 3,
   "id": "54f0120c-d348-4715-a793-af3a7d51a862",
   "metadata": {},
   "outputs": [
    {
     "name": "stdin",
     "output_type": "stream",
     "text": [
      "enter an character: $\n"
     ]
    },
    {
     "name": "stdout",
     "output_type": "stream",
     "text": [
      "it is a special symbol\n"
     ]
    }
   ],
   "source": [
    "x = input('enter an character:')\n",
    "if x.isupper():\n",
    "    print('it is an capital letter')\n",
    "elif x.islower():\n",
    "    print('it is a small letter')\n",
    "elif x.isdigit():\n",
    "    print('it is an number')\n",
    "else:\n",
    "    print('it is a special symbol')\n",
    "    "
   ]
  },
  {
   "cell_type": "markdown",
   "id": "464002b9-e34b-4f75-aeba-80b09d8716a9",
   "metadata": {},
   "source": [
    "WAP to accept 3 integers from the user and without using any logical operator and cascading of relational operators , find out the greatest number amongst them\n"
   ]
  },
  {
   "cell_type": "code",
   "execution_count": 57,
   "id": "f9c647d3-3e39-465b-a303-8b3a53ff2d3a",
   "metadata": {},
   "outputs": [
    {
     "name": "stdin",
     "output_type": "stream",
     "text": [
      " 6\n",
      " 9\n",
      " 7\n"
     ]
    },
    {
     "name": "stdout",
     "output_type": "stream",
     "text": [
      "The greatest number is 9\n"
     ]
    }
   ],
   "source": [
    "num1 = int(input())\n",
    "num2 = int(input())\n",
    "num3 = int(input())\n",
    "if (num1 >= num2) and (num1 >= num3):\n",
    " greatest = num1\n",
    "elif (num2 >= num1) and (num2 >= num3):\n",
    " greatest = num2\n",
    "else:\n",
    " greatest = num3\n",
    "print(\"The greatest number is\",greatest )"
   ]
  },
  {
   "cell_type": "markdown",
   "id": "c2e72e6f-71b1-48ef-8059-77aea250e9ca",
   "metadata": {},
   "source": [
    "WAP to accept a year from the user and check whether it is a leap year or not.\n"
   ]
  },
  {
   "cell_type": "code",
   "execution_count": 64,
   "id": "92c45a4f-68f1-424c-a318-3e6d87ec46ff",
   "metadata": {},
   "outputs": [
    {
     "name": "stdin",
     "output_type": "stream",
     "text": [
      "enter a year 1997\n"
     ]
    },
    {
     "name": "stdout",
     "output_type": "stream",
     "text": [
      "it is not a leap year\n"
     ]
    }
   ],
   "source": [
    "yr = int(input('enter a year'))\n",
    "if (yr%4==0 and yr%100!=0 or yr%400==0):\n",
    "    print('it is a leap year')\n",
    "else:\n",
    "    print('it is not a leap year')"
   ]
  },
  {
   "cell_type": "markdown",
   "id": "c0e6b745-7159-4c00-8097-6d1b8877b3b5",
   "metadata": {},
   "source": [
    "Number guessing game"
   ]
  },
  {
   "cell_type": "code",
   "execution_count": 25,
   "id": "9e494601-8ee8-4076-9443-31eba3ba8bf7",
   "metadata": {},
   "outputs": [
    {
     "name": "stdin",
     "output_type": "stream",
     "text": [
      "guess the number generated: 5\n"
     ]
    },
    {
     "name": "stdout",
     "output_type": "stream",
     "text": [
      "Number too large\n"
     ]
    },
    {
     "name": "stdin",
     "output_type": "stream",
     "text": [
      "guess the number generated: 90\n"
     ]
    },
    {
     "name": "stdout",
     "output_type": "stream",
     "text": [
      "Number too small\n"
     ]
    },
    {
     "name": "stdin",
     "output_type": "stream",
     "text": [
      "guess the number generated: 50\n"
     ]
    },
    {
     "name": "stdout",
     "output_type": "stream",
     "text": [
      "Number too small\n"
     ]
    },
    {
     "name": "stdin",
     "output_type": "stream",
     "text": [
      "guess the number generated: 30\n"
     ]
    },
    {
     "name": "stdout",
     "output_type": "stream",
     "text": [
      "Number too small\n"
     ]
    },
    {
     "name": "stdin",
     "output_type": "stream",
     "text": [
      "guess the number generated: 20\n"
     ]
    },
    {
     "name": "stdout",
     "output_type": "stream",
     "text": [
      "Number too small\n"
     ]
    },
    {
     "name": "stdin",
     "output_type": "stream",
     "text": [
      "guess the number generated: 10\n"
     ]
    },
    {
     "name": "stdout",
     "output_type": "stream",
     "text": [
      "Number too large\n"
     ]
    },
    {
     "name": "stdin",
     "output_type": "stream",
     "text": [
      "guess the number generated: 11\n"
     ]
    },
    {
     "name": "stdout",
     "output_type": "stream",
     "text": [
      "Congratulations! You guessed it right\n"
     ]
    }
   ],
   "source": [
    "import random\n",
    "a= random.randint(1,100)\n",
    "x= int(input('guess the number generated:'))\n",
    "while(1):\n",
    "    if x==0 or x<0:\n",
    "        print('game terminated, number is:',a)\n",
    "        break\n",
    "    elif a<x:\n",
    "        print('Number too small')\n",
    "        x= int(input('guess the number generated:'))\n",
    "    elif a>x:\n",
    "        print('Number too large')\n",
    "        x= int(input('guess the number generated:')) \n",
    "    else:\n",
    "        print('Congratulations! You guessed it right')\n",
    "        break"
   ]
  },
  {
   "cell_type": "markdown",
   "id": "c60ef654-70d9-4271-b2c3-452f5345dde2",
   "metadata": {},
   "source": [
    "Write a program to accept a string from the user and display it vertically but don’t display the vowels in it.\n"
   ]
  },
  {
   "cell_type": "code",
   "execution_count": 80,
   "id": "d77567ff-1043-4408-bcce-639ce9542b8c",
   "metadata": {},
   "outputs": [
    {
     "name": "stdin",
     "output_type": "stream",
     "text": [
      "enter a string: khushboo jain\n"
     ]
    },
    {
     "name": "stdout",
     "output_type": "stream",
     "text": [
      "k\n",
      "h\n",
      "s\n",
      "h\n",
      "b\n",
      " \n",
      "j\n",
      "n\n"
     ]
    }
   ],
   "source": [
    "str = input('enter a string:')\n",
    "x=0\n",
    "while x<len(str):\n",
    "    if str[x] not in (('aeiou') or ('AEIOU')):\n",
    "        print(str[x])\n",
    "    x=x+1"
   ]
  },
  {
   "cell_type": "markdown",
   "id": "c5161665-02dc-41dc-b818-5c72b6631278",
   "metadata": {},
   "source": [
    "Write a program to continuously accept integers from the user until the user types 0 and as soon as 0 is entered display sum of all the nos entered before 0"
   ]
  },
  {
   "cell_type": "code",
   "execution_count": 2,
   "id": "8b132642-9958-4690-9ddb-b4ef28b4c765",
   "metadata": {},
   "outputs": [
    {
     "name": "stdin",
     "output_type": "stream",
     "text": [
      "enter numbers: 3\n",
      "enter numbers: 4\n",
      "enter numbers: -2\n",
      "enter numbers: 0\n"
     ]
    },
    {
     "name": "stdout",
     "output_type": "stream",
     "text": [
      "terminated, sum is: 7\n"
     ]
    }
   ],
   "source": [
    "sum=0\n",
    "while(1):\n",
    "    x = int(input('enter numbers:'))\n",
    "    if x==0:\n",
    "        print('terminated, sum is:',sum)\n",
    "        break\n",
    "    elif x>0:\n",
    "        sum = sum+x\n",
    "\n",
    "    "
   ]
  },
  {
   "cell_type": "markdown",
   "id": "447c726c-4829-44b7-8ce5-c55bbe6a47b2",
   "metadata": {},
   "source": [
    "Write a program using a for loop to accept a string from the user and display it vertically but don’t display the vowels in it.\n"
   ]
  },
  {
   "cell_type": "code",
   "execution_count": 6,
   "id": "ad34736c-23f4-4828-8458-2b16c1019fd0",
   "metadata": {},
   "outputs": [
    {
     "name": "stdin",
     "output_type": "stream",
     "text": [
      "enter the string: KHUSHBOO JAIN\n"
     ]
    },
    {
     "name": "stdout",
     "output_type": "stream",
     "text": [
      "K\n",
      "H\n",
      "S\n",
      "H\n",
      "B\n",
      " \n",
      "J\n",
      "N\n"
     ]
    }
   ],
   "source": [
    "st = input('enter the string:')\n",
    "for i in st:\n",
    "    if i not in ('aeiouAEIOU'):\n",
    "        print(i)\n",
    "    \n",
    "    "
   ]
  },
  {
   "cell_type": "markdown",
   "id": "43207af0-6abc-44a3-9f2a-bb9b76405cc6",
   "metadata": {},
   "source": [
    "Write a program to accept an integer from the user and display the sum of all the numbers from 1 to that number.\n"
   ]
  },
  {
   "cell_type": "code",
   "execution_count": 1,
   "id": "0df1ce2e-fbca-4be1-92fa-4738a57a88ed",
   "metadata": {},
   "outputs": [
    {
     "name": "stdin",
     "output_type": "stream",
     "text": [
      "enter a number: 6\n"
     ]
    },
    {
     "name": "stdout",
     "output_type": "stream",
     "text": [
      "21\n"
     ]
    }
   ],
   "source": [
    "a = int(input('enter a number:'))\n",
    "sum = 0\n",
    "i=1\n",
    "while (i<=a):\n",
    "    sum = sum+i\n",
    "    i=i+1\n",
    "print(sum)"
   ]
  },
  {
   "cell_type": "code",
   "execution_count": 8,
   "id": "79ea3da2-519e-4f38-8f1f-c24ed5b962d7",
   "metadata": {},
   "outputs": [
    {
     "name": "stdin",
     "output_type": "stream",
     "text": [
      "enter a number: 6\n"
     ]
    },
    {
     "name": "stdout",
     "output_type": "stream",
     "text": [
      "sum of number: 21.0\n"
     ]
    }
   ],
   "source": [
    "a = int(input('enter a number:'))\n",
    "print('sum of number:',(a*(a+1))/2)"
   ]
  },
  {
   "cell_type": "markdown",
   "id": "79194ff5-3316-4fbb-8700-2b653c8e33b6",
   "metadata": {},
   "source": [
    "Write a program to accept an integer from the user and calculate its factorial"
   ]
  },
  {
   "cell_type": "code",
   "execution_count": 104,
   "id": "f6a94037-e21a-410a-9ad0-c5ada2ae1d85",
   "metadata": {},
   "outputs": [
    {
     "name": "stdin",
     "output_type": "stream",
     "text": [
      "enter a number: 5\n"
     ]
    },
    {
     "name": "stdout",
     "output_type": "stream",
     "text": [
      "120\n"
     ]
    }
   ],
   "source": [
    "a = int(input('enter a number:'))\n",
    "sum = 1\n",
    "i=1\n",
    "while (i<=a):\n",
    "    sum = sum*i\n",
    "    i=i+1\n",
    "print(sum)"
   ]
  },
  {
   "cell_type": "code",
   "execution_count": 1,
   "id": "cf79c18b-d99b-4fb8-9c12-39d16e90cddc",
   "metadata": {},
   "outputs": [
    {
     "name": "stdout",
     "output_type": "stream",
     "text": [
      "* * * \n",
      "* * * \n",
      "* * * \n"
     ]
    }
   ],
   "source": [
    "for i in range (0,3):\n",
    "    for j in range(0,3):\n",
    "        print('*',end =' ')\n",
    "    print(end='\\n')"
   ]
  },
  {
   "cell_type": "code",
   "execution_count": 2,
   "id": "ecf1ad11-26fd-4f69-b497-3da376d53fc3",
   "metadata": {},
   "outputs": [
    {
     "name": "stdout",
     "output_type": "stream",
     "text": [
      "\n",
      "* \n",
      "* * \n",
      "* * * \n",
      "* * * * \n"
     ]
    }
   ],
   "source": [
    "for i in range(0,5):\n",
    "    for j in range(i):\n",
    "        print('*',end =' ')\n",
    "    print(end='\\n') "
   ]
  },
  {
   "cell_type": "code",
   "execution_count": 3,
   "id": "4e9514aa-d26d-48b3-bf48-325d24d10872",
   "metadata": {},
   "outputs": [
    {
     "name": "stdout",
     "output_type": "stream",
     "text": [
      "* * * * * \n",
      "* * * * \n",
      "* * * \n",
      "* * \n",
      "* \n"
     ]
    }
   ],
   "source": [
    "for i in range(5,0,-1):\n",
    "    for j in range(0,i):\n",
    "        print('*',end=' ')\n",
    "    print(end='\\n')"
   ]
  },
  {
   "cell_type": "markdown",
   "id": "2d441c84-fd4c-4537-93fd-8291288860a6",
   "metadata": {},
   "source": [
    "Write a program to accept an integer from the user and display all the numbers from 1 to that number. Repeat the process until the user enters 0."
   ]
  },
  {
   "cell_type": "code",
   "execution_count": 12,
   "id": "f5c7728a-7805-4801-8c3c-716bc1b4e93e",
   "metadata": {},
   "outputs": [
    {
     "name": "stdin",
     "output_type": "stream",
     "text": [
      "enter a number: 4\n"
     ]
    },
    {
     "name": "stdout",
     "output_type": "stream",
     "text": [
      "1\n",
      "2\n",
      "3\n",
      "4\n"
     ]
    },
    {
     "name": "stdin",
     "output_type": "stream",
     "text": [
      "enter a number: 5\n"
     ]
    },
    {
     "name": "stdout",
     "output_type": "stream",
     "text": [
      "1\n",
      "2\n",
      "3\n",
      "4\n",
      "5\n"
     ]
    },
    {
     "name": "stdin",
     "output_type": "stream",
     "text": [
      "enter a number: 0\n"
     ]
    }
   ],
   "source": [
    "n = int(input('enter a number:'))\n",
    "while (n):\n",
    "    for i in range(1,n+1):\n",
    "        print(i)\n",
    "    n = int(input('enter a number:'))"
   ]
  },
  {
   "cell_type": "code",
   "execution_count": null,
   "id": "ab6f10bf-4f5a-4f13-b092-fcbbaed3a0a7",
   "metadata": {},
   "outputs": [],
   "source": []
  }
 ],
 "metadata": {
  "kernelspec": {
   "display_name": "Python 3 (ipykernel)",
   "language": "python",
   "name": "python3"
  },
  "language_info": {
   "codemirror_mode": {
    "name": "ipython",
    "version": 3
   },
   "file_extension": ".py",
   "mimetype": "text/x-python",
   "name": "python",
   "nbconvert_exporter": "python",
   "pygments_lexer": "ipython3",
   "version": "3.10.6"
  }
 },
 "nbformat": 4,
 "nbformat_minor": 5
}
